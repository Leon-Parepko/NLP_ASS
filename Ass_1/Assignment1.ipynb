{
 "cells": [
  {
   "cell_type": "markdown",
   "metadata": {
    "id": "RKboZnAdgrRM"
   },
   "source": [
    "# [NLP] Assignment 1: Tokenization\n",
    "\n",
    "In this assignment, you need to tokenize the text of the Twitter(X) users posts(tweets). The assignment consists of two tasks. When you finish all the tasks, create a GitHub repository for this assignment (you can use this repo later for the other assignments) and submit this notebook in the repository. Leave `requirements.txt` file if your code requires additional installations. Submit the link to the repository in Moodle.\n",
    "\n",
    "The [data](https://drive.google.com/file/d/15x_wPAflvYQ2Xh38iNQGrqUIWLj5l5Nw/view?usp=share_link) contains 5 files whereby each contains 44 tweets. Each tweet is separated by a newline."
   ]
  },
  {
   "cell_type": "markdown",
   "metadata": {
    "id": "aLDjjAvemUP_"
   },
   "source": [
    "## Task 1. Tokenize some tweets manually (20 points)\n",
    "\n",
    "As a first task you need to tokenize first 15 tweets from `file2` by hand. This will allow you to understand the problem from a linguistic point of view. The guidelines for tweet tokenization are as follows:\n",
    "\n",
    "- Each smiley is a separate token\n",
    "- Each hashtag is an individual token. Each user reference is an individual token\n",
    "- If a word has spaces between them then it is converted to a single token\n",
    "- All punctuations are individual tokens. This includes double-quotes and single quotes also\n",
    "- A URL is a single token\n",
    "\n",
    "Example of output\n",
    "\n",
    "    Input tweet\n",
    "    @xfranman Old age has made N A T O!\n",
    "\n",
    "    Tokenized tweet (separated by comma)\n",
    "    @xfranman , Old , age , has , made , NATO , !"
   ]
  },
  {
   "cell_type": "markdown",
   "source": [
    "# INPUT TWEETS:\n",
    "\n",
    "    1. Camping in Maine for the weekend. Hey Dad, Mama Loves YOU: http://www.mamapalooza.com\n",
    "\n",
    "    2. Its american tradition bitch\n",
    "\n",
    "    3. @ThroughTheVoid They love it! The only pleasure they get in life. I actually do that. I'm sure I hear a tiny squeak... Then louder ones\n",
    "\n",
    "    4. \" RT @latti: @AbsoHilare stop tweeting in church! Lol <--- \"\"I tweet because I'm happy, I tweet because I'm free\"\" LOL!\"\n",
    "\n",
    "    5. Samsung Mini S2 portable HDD graced with colors that perfectly match your tacky beach gear: Sammy's done it aga.. http://tinyurl.com/lb5p6m\n",
    "\n",
    "    6. @dialloc congrats on finding your way over. it may be slow going at first. hang in there. it's kinda cool when u get up to speed.\n",
    "\n",
    "    7. iPhone activation delays continue, Apple offers $30 http://twt.gs/l3Ki\n",
    "\n",
    "    8. RT @GoogleAtWork Gmail maximum attachment size now 25MB http://bit.ly/62mjw Nice!!!\n",
    "\n",
    "    9. RT @acfou The Ads Won Awards for Crispin; But Did Nothing for Client BurgerKing's Sales/Marketshare - Big Surprise - http://ping.fm/vw8TI\n",
    "\n",
    "    10. Hey doll! Great I missed True Blood yday boo lol Rt @FrankBanuat78 @jhillstephens Hello Sunshine how are u today? :-)\n",
    "\n",
    "    11. Australian artist Pogo made these free songs primarily from sampled audio from Alice In Wonderland. http://www.last.fm/music/Pogo/Wonderland\n",
    "\n",
    "    12. @mppritchard they wanted to sell all the preorders & then sell all of the ones they had in stock to those that just walked in. Can't do both\n",
    "\n",
    "    13. Incoming: Frightened Rabbit, Sept. 22 (Tucson): If Fat Cat Records is going to send three great bands from Scot.. http://tinyurl.com/nz6xcv\n",
    "\n",
    "    14. Hey @ginoandfran please greet philip! (GinoandFran live > http://ustre.am/2YyQ)\n",
    "\n",
    "    15. Ik weet niet wie er achter de T-Mobile iPhone Twitter zit maar ik vind het niet echt 'corporate' taalgebruik... Best vreemd eigenlijk\n",
    "\n"
   ],
   "metadata": {
    "collapsed": false
   }
  },
  {
   "cell_type": "markdown",
   "source": [
    "# TOKENIZED TWEETS (separated by comma):\n",
    "\n",
    "    1. Camping , in , Maine , for , the , weekend , . , Hey , Dad , , , Mama , Loves , YOU , : , http://www.mamapalooza.com\n",
    "\n",
    "    2. It , s , american , tradition , bitch\n",
    "\n",
    "    3. @ThroughTheVoid , They , love , it , ! , The , only , pleasure , they , get , in , life , . , I , actually , do , that , . , I , ' , m , sure , I , hear , a , tiny , squeak , . , . , . , Then , louder , ones\n",
    "\n",
    "    4. \" , RT , @latti , : , @AbsoHilare , stop , tweeting , in , church , ! , Lol , < , - , - , - , \" , \" , I , tweet , because , I , ' , m , happy , , , I , tweet , because , I , ' , m , free , \" , \" , LOL , ! , \"\n",
    "\n",
    "    5. Samsung , Mini , S2 , portable , HDD , graced , with , colors , that , perfectly , match , your , tacky , beach , gear , : , Sammy , ' , s , done , it , aga , . , . , http://tinyurl.com/lb5p6m\n",
    "\n",
    "    6. @dialloc , congrats , on , finding , your , way , over , . , it , may , be , slow , going , at , first , . , hang , in , there , . , it , ' , s , kinda , cool , when , u , get , up , to , speed , .\n",
    "\n",
    "    7. iPhone , activation , delays , continue , , , Apple , offers $30 http://twt.gs/l3Ki\n",
    "\n",
    "    8. RT , @GoogleAtWork , Gmail , maximum , attachment , size , now , 25MB , http://bit.ly/62mjw , Nice , ! , ! , !\n",
    "\n",
    "    9. RT , @acfou , The , Ads , Won , Awards , for , Crispin , ; , But , Did , Nothing , for , Client , BurgerKing , ' , s , Sales , / , Marketshare , - , Big , Surprise , - , http://ping.fm/vw8TI\n",
    "\n",
    "    10. Hey , doll , ! , Great , I , missed , True , Blood , yday , boo , lol , Rt , @FrankBanuat78 , @jhillstephens , Hello , Sunshine , how , are , u , today , ? , : , - , )\n",
    "\n",
    "    11. Australian , artist , Pogo , made , these , free , songs , primarily , from , sampled , audio , from , Alice , In , Wonderland , . , http://www.last.fm/music/Pogo/Wonderland\n",
    "\n",
    "    12. @mppritchard , they , wanted , to , sell , all , the , preorders , & , then , sell , all , of , the , ones , they , had , in , stock , to , those , that , just , walked , in , . , Can , ' , t , do , both\n",
    "\n",
    "    13. Incoming , : , Frightened , Rabbit , , , Sept , . , 22 , ( , Tucson , ) , : , If , Fat , Cat , Records , is , going , to , send , three , great , bands , from , Scot , . , . , http://tinyurl.com/nz6xcv\n",
    "\n",
    "    14. Hey , @ginoandfran , please , greet , philip , ! , ( , GinoandFran , live , > , http://ustre.am/2YyQ , )\n",
    "\n",
    "    15. Ik , weet , niet , wie , er , achter , de , T , - , Mobile , iPhone , Twitter , zit , maar , ik , vind , het , niet , echt , ' , corporate , ' , taalgebruik , . , . , . , Best , vreemd , eigenlijk\n"
   ],
   "metadata": {
    "collapsed": false
   }
  },
  {
   "cell_type": "markdown",
   "metadata": {
    "id": "-2J2AD2nmUhi"
   },
   "source": [
    "## Task 2. Implement [Byte-Pair Encoding(BPE)](https://arxiv.org/pdf/1508.07909.pdf) Tokenizer (80 points)\n",
    "\n",
    "### Task 2.1. Implementation (60 points)\n",
    "\n",
    "Implement the tokenizer as the BPETokenizer class:\n",
    "* Implement `train` method that learns merges and builds the vocabulary of the specified `vocab_size` (25 points).\n",
    "* Implement `tokenize` method that should tokenize the text according to the learnt merges (25 points).\n",
    "\n",
    "Your code should have docstrings and comments (10 points)."
   ]
  },
  {
   "cell_type": "markdown",
   "source": [
    "The code was modified and inspired by current github repository:\n",
    "https://github.com/DolbyUUU/byte_pair_encoding_BPE_subword_tokenization_implementation_pythоn"
   ],
   "metadata": {
    "collapsed": false
   }
  },
  {
   "cell_type": "code",
   "execution_count": 1,
   "outputs": [],
   "source": [
    "from collections import defaultdict\n",
    "import re\n",
    "import matplotlib.pyplot as plt\n",
    "from scipy.interpolate import make_interp_spline\n",
    "import numpy as np"
   ],
   "metadata": {
    "collapsed": false,
    "ExecuteTime": {
     "start_time": "2024-02-07T00:05:43.304438Z",
     "end_time": "2024-02-07T00:05:44.867273Z"
    }
   }
  },
  {
   "cell_type": "code",
   "execution_count": 2,
   "outputs": [],
   "source": [
    "class BPE:\n",
    "    \"\"\"Byte-Pair Encoding is a subword-based tokenization algorithm that iteratively merges the most frequent pair of characters.\"\"\"\n",
    "\n",
    "    def __init__(self, vocab_size):\n",
    "        \"\"\"\n",
    "        Initialize BPE tokenizer.\n",
    "        :param vocab_size: int, the size of the vocabulary (0 - use base vocabulary size)\n",
    "        \"\"\"\n",
    "        self.vocab_size = vocab_size\n",
    "        self.word_freqs = defaultdict(int)\n",
    "        self.merges = {}\n",
    "\n",
    "\n",
    "    def train(self, corpus):\n",
    "        \"\"\"\n",
    "        Train BPE tokenizer using the given corpus.\n",
    "        :param corpus: list of str, the corpus to train the tokenizer\n",
    "        \"\"\"\n",
    "\n",
    "        # compute the frequencies of words in the corpus\n",
    "        for sentence in corpus:\n",
    "\n",
    "            # using re handle user references and URLs as an individual token\n",
    "            sentence = re.findall(r'http://\\S+|@\\w+|\\w+|[^a-zA-Z0-9\\s]', sentence.lower())\n",
    "\n",
    "            # append the word frequency\n",
    "            for word in sentence:\n",
    "                self.word_freqs[word] += 1\n",
    "\n",
    "        # get all unique letters in the text\n",
    "        vocab = list(set(\"\".join(self.word_freqs.keys())))\n",
    "        vocab.sort()\n",
    "\n",
    "        # if the base vocabulary size is used, set the vocabulary size to the number of unique letters\n",
    "        if self.vocab_size == 0:\n",
    "            self.vocab_size = len(vocab)\n",
    "\n",
    "        # split words into characters\n",
    "        splits = {word: [c for c in word] for word in self.word_freqs.keys()}\n",
    "\n",
    "        # merge the most frequent pair iteratively until the vocabulary size is reached\n",
    "        while len(vocab) < self.vocab_size:\n",
    "\n",
    "            # compute the frequency of each pair\n",
    "            pair_freqs = defaultdict(int)\n",
    "            for word, freq in self.word_freqs.items():\n",
    "                split = splits[word]\n",
    "                for i in range(len(split) - 1):\n",
    "                    pair_freqs[split[i], split[i + 1]] += freq\n",
    "\n",
    "            # find the most frequent pair\n",
    "            best_pair = max(pair_freqs, key=pair_freqs.get)\n",
    "\n",
    "            # merge the most frequent pair\n",
    "            for word in self.word_freqs:\n",
    "                split = splits[word]\n",
    "                if len(split) == 1:\n",
    "                    continue\n",
    "                i = 0\n",
    "                while i < len(split) - 1:\n",
    "                    if split[i] == best_pair[0] and split[i + 1] == best_pair[1]:\n",
    "                        split = split[:i] + [best_pair[0] + best_pair[1]] + split[i + 2 :]\n",
    "                    else:\n",
    "                        i += 1\n",
    "                splits[word] = split\n",
    "\n",
    "            self.merges[best_pair] = best_pair[0] + best_pair[1]\n",
    "            vocab.append(best_pair[0] + best_pair[1])\n",
    "\n",
    "\n",
    "    def tokenize(self, text):\n",
    "        \"\"\"\n",
    "        Infer the tokenized text with trained BPE tokenizer.\n",
    "        :param text: str, the text to tokenize\n",
    "        :return: list of str, the tokenized text\n",
    "        \"\"\"\n",
    "\n",
    "        text = re.findall(r'http://\\S+|@\\w+|\\w+|[^a-zA-Z0-9\\s]', text.lower())\n",
    "        splits_text = [[l for l in word] for word in text]\n",
    "\n",
    "        for pair, merge in self.merges.items():\n",
    "            for i, split in enumerate(splits_text):\n",
    "                j = 0\n",
    "                while j < len(split) - 1:\n",
    "                    if split[j] == pair[0] and split[j + 1] == pair[1]:\n",
    "                        split = split[:j] + [merge] + split[j + 2 :]\n",
    "                    else:\n",
    "                        j += 1\n",
    "                splits_text[i] = split\n",
    "        result = sum(splits_text, [])\n",
    "        return result"
   ],
   "metadata": {
    "collapsed": false,
    "ExecuteTime": {
     "start_time": "2024-02-07T00:05:44.886436Z",
     "end_time": "2024-02-07T00:05:44.901115Z"
    }
   }
  },
  {
   "cell_type": "markdown",
   "metadata": {},
   "source": [
    "### Task 2.2. Analysis on Tweets Dataset (10 points)\n",
    "\n",
    "Train the BPE tokenizer on the tweets dataset. Try to tokenize the tweets with the tokenizer of different `vocab_size`. For example, train the BPE tokenizer with `vocab_size` of [base_vocab_size, 250, 500, 750, 1000]. Plot the dependency of the average length of the tokenized tweet by `vocab_size` to analyze how `vocab_size` affects the length of the tokenized tweet on average. Tell what `vocab_size` is preferrable and why."
   ]
  },
  {
   "cell_type": "code",
   "execution_count": 3,
   "outputs": [
    {
     "name": "stdout",
     "output_type": "stream",
     "text": [
      " number of tweets: 220\n"
     ]
    }
   ],
   "source": [
    "# load the tweets dataset\n",
    "data = []\n",
    "\n",
    "for i in range(1, 6):\n",
    "    with open(f\"file{i}\", \"r\") as file:\n",
    "        data.append(file.read().split(\"\\n\"))\n",
    "\n",
    "data = sum(data, [])\n",
    "\n",
    "# remove empty strings\n",
    "data = [tweet for tweet in data if tweet]\n",
    "\n",
    "# get the number of tweets\n",
    "print(f\" number of tweets: {len(data)}\")"
   ],
   "metadata": {
    "collapsed": false,
    "ExecuteTime": {
     "start_time": "2024-02-07T00:05:44.896540Z",
     "end_time": "2024-02-07T00:05:44.921263Z"
    }
   }
  },
  {
   "cell_type": "code",
   "execution_count": 4,
   "outputs": [
    {
     "name": "stdout",
     "output_type": "stream",
     "text": [
      "vocab_size: 0, average length of the tokenized tweet: 83.50909090909092\n",
      "vocab_size: 250, average length of the tokenized tweet: 52.7\n",
      "vocab_size: 350, average length of the tokenized tweet: 47.02272727272727\n",
      "vocab_size: 500, average length of the tokenized tweet: 42.53181818181818\n",
      "vocab_size: 600, average length of the tokenized tweet: 40.55\n",
      "vocab_size: 750, average length of the tokenized tweet: 38.35909090909091\n",
      "vocab_size: 1000, average length of the tokenized tweet: 35.7\n",
      "vocab_size: 1500, average length of the tokenized tweet: 31.772727272727273\n"
     ]
    }
   ],
   "source": [
    "vocab_sizes = [0, 250, 350, 500, 600, 750, 1000, 1500]\n",
    "tweet_avg_lens = []\n",
    "\n",
    "# train the BPE tokenizer with different vocab_size\n",
    "for vocab_size in vocab_sizes:\n",
    "    tokenizer = BPE(vocab_size=vocab_size)\n",
    "    tokenizer.train(data)\n",
    "\n",
    "    # tokenize the tweets with the trained BPE tokenizer\n",
    "    tokenized_tweets = [tokenizer.tokenize(tweet) for tweet in data]\n",
    "\n",
    "    # compute the average length of the tokenized tweet\n",
    "    avg_len = sum([len(tweet) for tweet in tokenized_tweets]) / len(tokenized_tweets)\n",
    "    tweet_avg_lens.append(avg_len)\n",
    "    print(f\"vocab_size: {vocab_size}, average length of the tokenized tweet: {avg_len}\")"
   ],
   "metadata": {
    "collapsed": false,
    "ExecuteTime": {
     "start_time": "2024-02-07T00:05:44.925636Z",
     "end_time": "2024-02-07T00:06:07.044888Z"
    }
   }
  },
  {
   "cell_type": "code",
   "execution_count": 5,
   "outputs": [
    {
     "data": {
      "text/plain": "<Figure size 640x480 with 1 Axes>",
      "image/png": "[encoded data removed]"
     },
     "metadata": {},
     "output_type": "display_data"
    }
   ],
   "source": [
    "# interpolate the data to make graph smooth\n",
    "xnew = np.linspace(min(vocab_sizes), max(vocab_sizes), 300)\n",
    "ynew = make_interp_spline(vocab_sizes, tweet_avg_lens, k=3)\n",
    "\n",
    "# plot the dependency of the average length of the tokenized tweet by vocab_size\n",
    "plt.plot(xnew, ynew(xnew))\n",
    "\n",
    "plt.xlabel(\"vocab_size\")\n",
    "plt.ylabel(\"average length of the tokenized tweet\")\n",
    "\n",
    "pass"
   ],
   "metadata": {
    "collapsed": false,
    "ExecuteTime": {
     "start_time": "2024-02-07T00:06:07.050758Z",
     "end_time": "2024-02-07T00:06:07.211520Z"
    }
   }
  },
  {
   "cell_type": "markdown",
   "metadata": {},
   "source": [
    "### Task 2.3. Analysis on Dataset of Different Language (10 points)\n",
    "\n",
    "Find a small dataset of texts in a language other than English. The dataset size should be not greater than several megabytes.\n",
    "\n",
    "Train the BPE tokenizer on the dataset that you found. Try to tokenize the sentences from this dataset with the tokenizer of different `vocab_size`. Plot the dependency of the average length of the tokenized sentence by `vocab_size` to analyze how `vocab_size` affects the length of the tokenized sentence on average.\n",
    "\n",
    "Tell how the average length of the tokenized sentence differs from the average length of the tokenized tweet. Explain why."
   ]
  },
  {
   "cell_type": "code",
   "execution_count": 6,
   "metadata": {
    "ExecuteTime": {
     "start_time": "2024-02-07T00:06:07.213807Z",
     "end_time": "2024-02-07T00:06:08.544573Z"
    }
   },
   "outputs": [
    {
     "name": "stdout",
     "output_type": "stream",
     "text": [
      " number of sentences: 220\n"
     ]
    }
   ],
   "source": [
    "# download the dataset of texts in german from nltk\n",
    "import nltk\n",
    "\n",
    "nltk.download(\"europarl_raw\", quiet=True)\n",
    "\n",
    "from nltk.corpus import europarl_raw\n",
    "\n",
    "# get the german dataset\n",
    "german_data = europarl_raw.german.raw().split(\"\\n\")\n",
    "\n",
    "# remove empty strings and strings with spaces only\n",
    "german_data = [sentence for sentence in german_data if sentence and sentence.strip()]\n",
    "\n",
    "\n",
    "# get only the first 220 sentences (same as tweeter dataset)\n",
    "german_data = german_data[:220]\n",
    "\n",
    "# get the number of sentences\n",
    "print(f\" number of sentences: {len(german_data)}\")"
   ]
  },
  {
   "cell_type": "code",
   "execution_count": 7,
   "outputs": [
    {
     "name": "stdout",
     "output_type": "stream",
     "text": [
      "vocab_size: 0, average length of the tokenized sentence: 121.08181818181818\n",
      "vocab_size: 250, average length of the tokenized sentence: 55.15\n",
      "vocab_size: 350, average length of the tokenized sentence: 49.32272727272727\n",
      "vocab_size: 500, average length of the tokenized sentence: 43.66818181818182\n",
      "vocab_size: 600, average length of the tokenized sentence: 41.00909090909091\n",
      "vocab_size: 750, average length of the tokenized sentence: 37.90909090909091\n",
      "vocab_size: 1000, average length of the tokenized sentence: 34.28181818181818\n",
      "vocab_size: 1500, average length of the tokenized sentence: 29.736363636363638\n"
     ]
    }
   ],
   "source": [
    "vocab_sizes = [0, 250, 350, 500, 600, 750, 1000, 1500]\n",
    "german_avg_lens = []\n",
    "\n",
    "# train the BPE tokenizer with different vocab_size\n",
    "for vocab_size in vocab_sizes:\n",
    "    tokenizer = BPE(vocab_size=vocab_size)\n",
    "    tokenizer.train(german_data)\n",
    "\n",
    "    # tokenize the tweets with the trained BPE tokenizer\n",
    "    tokenized_sentences = [tokenizer.tokenize(sentence) for sentence in german_data]\n",
    "\n",
    "    # compute the average length of the tokenized tweet\n",
    "    avg_len = sum([len(sentence) for sentence in tokenized_sentences]) / len(tokenized_sentences)\n",
    "    german_avg_lens.append(avg_len)\n",
    "    print(f\"vocab_size: {vocab_size}, average length of the tokenized sentence: {avg_len}\")"
   ],
   "metadata": {
    "collapsed": false,
    "ExecuteTime": {
     "start_time": "2024-02-07T00:06:08.593773Z",
     "end_time": "2024-02-07T00:06:28.178908Z"
    }
   }
  },
  {
   "cell_type": "markdown",
   "source": [
    "The average length of the tokenized sentence from german text dataset is not very different from the average length of the tokenized tweets. The average length of the tokenized sentence from the german text dataset is slightly higher in base vocabulary case. This is because the german text dataset is a bit more complex than the tweet dataset and contains longer sentences. Moreover, probably, the base vocabulary size is a bit bigger in german text case. So the more tokens will be used by BPE if it uses only base vocabulary (letters only)."
   ],
   "metadata": {
    "collapsed": false
   }
  },
  {
   "cell_type": "code",
   "execution_count": 8,
   "outputs": [
    {
     "data": {
      "text/plain": "<Figure size 640x480 with 1 Axes>",
      "image/png": "[encoded data removed]"
     },
     "metadata": {},
     "output_type": "display_data"
    }
   ],
   "source": [
    "# interpolate the data to make graph smooth\n",
    "xnew = np.linspace(min(vocab_sizes), max(vocab_sizes), 300)\n",
    "ynew = make_interp_spline(vocab_sizes, german_avg_lens, k=3)\n",
    "\n",
    "# plot german and tweeter on the same graph\n",
    "plt.plot(xnew, ynew(xnew), label=\"german dataset\")\n",
    "plt.plot(xnew, make_interp_spline(vocab_sizes, tweet_avg_lens, k=3)(xnew), label=\"tweeter dataset\")\n",
    "\n",
    "plt.xlabel(\"vocab_size\")\n",
    "plt.ylabel(\"average length of the tokenized text\")\n",
    "\n",
    "plt.legend()\n",
    "\n",
    "pass"
   ],
   "metadata": {
    "collapsed": false,
    "ExecuteTime": {
     "start_time": "2024-02-07T00:06:28.192945Z",
     "end_time": "2024-02-07T00:06:28.307942Z"
    }
   }
  }
 ],
 "metadata": {
  "colab": {
   "provenance": [],
   "toc_visible": true
  },
  "kernelspec": {
   "name": "python3",
   "language": "python",
   "display_name": "Python 3 (ipykernel)"
  },
  "language_info": {
   "name": "python"
  }
 },
 "nbformat": 4,
 "nbformat_minor": 0
}
